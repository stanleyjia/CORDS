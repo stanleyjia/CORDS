{
 "cells": [
  {
   "cell_type": "code",
   "execution_count": null,
   "metadata": {},
   "outputs": [],
   "source": [
    "import pyodbc\n",
    "import pandas as pd\n",
    "cnxn_string = r'Driver={SQL Server};Server=omop.uci.edu;Database=cords;Trusted_Connection=yes;'"
   ]
  },
  {
   "cell_type": "code",
   "execution_count": null,
   "metadata": {},
   "outputs": [],
   "source": [
    "# All Procedures\n",
    "cnxn = pyodbc.connect(cnxn_string)\n",
    "'''\n",
    "procedures = pd.DataFrame(pd.read_sql_query(\"\"\"\n",
    "with covid_positive_patients as (\n",
    "        select m.person_id, min(m.measurement_date) as covid_positive_test_date from cords.dbo.measurement m, cords.dbo.concept c\n",
    "        where m.measurement_concept_id = c.concept_id\n",
    "        and vocabulary_id='LOINC'\n",
    "        and concept_code in ('94500-6', '94309-2', '94531-1', '94500-6', '94310-0', '94533-7', '94306-8') and m.value_as_concept_id=9191\n",
    "        group by person_id\n",
    "),\n",
    "p as (\n",
    "    SELECT  a.[person_id], covid_positive_test_date, [procedure_concept_id], [procedure_date], [procedure_type_concept_id], [visit_occurrence_id]\n",
    "\tfrom covid_positive_patients a\n",
    "\tinner join (\n",
    "\t\t select person_id, [procedure_concept_id], [procedure_date], [procedure_type_concept_id], [visit_occurrence_id]\n",
    "\t\t FROM [CORDS].[dbo].[procedure_occurrence] \n",
    "\t\t where procedure_concept_id!=0) b\n",
    "\ton a.person_id = b.person_id\n",
    "), \n",
    "with_procedure_name as (\n",
    "\tselect c.concept_name as name_of_procedure, c.domain_id, p.* from p \n",
    "\tleft join (select * from cords.dbo.concept ) as c\n",
    "\t\ton c.concept_id=p.procedure_concept_id\n",
    "\twhere c.domain_id='Procedure'\n",
    "),\n",
    "with_procedure_type as (\n",
    "\tselect c.concept_name as procedure_type, p.* from with_procedure_name p\n",
    "\tleft join (select * from cords.dbo.concept ) as c\n",
    "\t\ton c.concept_id=p.procedure_type_concept_id\n",
    "),\n",
    "procedures_after_covid_positive as (\n",
    "select * from with_procedure_type where procedure_date >=covid_positive_test_date\n",
    ")/*,\n",
    "group_by_procedure as (\n",
    "\tselect person_id, min(procedure_date) as procedure_date, name_of_procedure, procedure_concept_id from procedures_after_covid_positive group by person_id, name_of_procedure, procedure_concept_id\n",
    ")*/,\n",
    "select person_id, procedure_concept_id, procedure_date from group_by_procedure\n",
    "\"\"\",cnxn))'''\n",
    "\n",
    "procedures = pd.DataFrame(pd.read_sql_query(\"\"\"\n",
    "with visits as (\n",
    "\tselect distinct vo.*, m.measurement_date\n",
    "\tfrom measurement m\n",
    "\tjoin concept c\n",
    "\ton m.measurement_concept_id = c.concept_id\n",
    "\tand c.vocabulary_id='LOINC' and c.concept_code IN ('94309-2', '94531-1', '94500-6' , '94310-0' , '94306-8', '94533-7')\n",
    "\tjoin visit_occurrence vo\n",
    "\ton m.person_id=vo.person_id\n",
    "\tand (m.measurement_date between dateadd(d, -30, vo.visit_start_date) and dateadd(d,1, vo.visit_start_date)\n",
    "\tor m.measurement_date between vo.visit_start_date and vo.visit_end_date\n",
    "\t)\n",
    "\tand vo.visit_concept_id=9201\n",
    "\tand m.value_as_concept_id=9191\n",
    "),\n",
    "with_procedures as (\n",
    "\tSELECT a.[person_id], measurement_date, [procedure_occurrence_id], [procedure_concept_id], [procedure_date],  a.[visit_occurrence_id], visit_start_date, visit_end_date\n",
    "\tFROM [CORDS].[dbo].[procedure_occurrence] a\n",
    "\tinner join (\n",
    "\t\tselect * from visits\n",
    "\t) b\n",
    "\ton ((a.[visit_occurrence_id] = b.visit_occurrence_id) or (procedure_date between measurement_date and visit_end_date)  or (procedure_date between visit_start_date and visit_end_date))\n",
    "\tand a.person_id=b.person_id\n",
    "\twhere procedure_date <= visit_end_date\n",
    ")\n",
    "\n",
    "--select person_id, procedure_concept_id from with_procedures group by person_id, procedure_concept_id\n",
    "select person_id, procedure_concept_id, measurement_date, procedure_date, visit_start_date, visit_end_date\n",
    "from with_procedures\n",
    "where procedure_date <= visit_end_date\n",
    "\n",
    "\"\"\",cnxn))\n",
    "\n",
    "\n",
    "\n",
    "cnxn.close()\n",
    "\n"
   ]
  },
  {
   "cell_type": "code",
   "execution_count": null,
   "metadata": {},
   "outputs": [],
   "source": [
    "procedures"
   ]
  },
  {
   "cell_type": "code",
   "execution_count": null,
   "metadata": {},
   "outputs": [],
   "source": [
    "ecmo_concept_ids = [46257510,1531630,1531631,1531632,46257543,46257466,46257511,46257682,46257467]\n",
    "ecmo_concept_ids = map(str, ecmo_concept_ids)\n",
    "ecmo = procedures\n",
    "ecmo = ecmo[ecmo['procedure_concept_id'].isin(ecmo_concept_ids)][[\"person_id\"]]\n",
    "ecmo['ecmo'] = '1'\n",
    "ecmo_group_by_people = ecmo.groupby('person_id')\n",
    "ecmo_indicator = ecmo_group_by_people['ecmo'].max()\n",
    "ecmo_indicator.index = ecmo_indicator.index.map(str)\n",
    "\n",
    "ventilation_concept_ids = map(str,[2314001, 2314000, 2788038, 2314035,2788037,2787823,2788036,2788019,2788024,2788028,2788023])\n",
    "ventilation = procedures\n",
    "ventilation = ventilation[ventilation['procedure_concept_id'].isin(ventilation_concept_ids)][[\"person_id\"]]\n",
    "ventilation['ventilation'] = '1'\n",
    "ventilation_group_by_people = ventilation.groupby('person_id')\n",
    "ventilation_indicator = ventilation_group_by_people['ventilation'].max()\n",
    "ventilation_indicator.index = ventilation_indicator.index.map(str)\n",
    "\n",
    "oxygen_concept_ids = [2314048,2106469,2108261, 2314047, 2314049]\n",
    "oxygen_concept_ids = map(str, oxygen_concept_ids)\n",
    "oxygen = procedures\n",
    "oxygen = oxygen[oxygen['procedure_concept_id'].isin(oxygen_concept_ids)][[\"person_id\"]]\n",
    "oxygen['oxygen'] = '1'\n",
    "oxygen_group_by_people = oxygen.groupby('person_id')\n",
    "oxygen_indicator = oxygen_group_by_people['oxygen'].max()\n",
    "oxygen_indicator.index = oxygen_indicator.index.map(str)\n",
    "# oxygen_indicator"
   ]
  },
  {
   "cell_type": "code",
   "execution_count": null,
   "metadata": {},
   "outputs": [],
   "source": [
    "len(ecmo_indicator)"
   ]
  },
  {
   "cell_type": "code",
   "execution_count": null,
   "metadata": {},
   "outputs": [],
   "source": [
    "len(ventilation_indicator)"
   ]
  },
  {
   "cell_type": "code",
   "execution_count": null,
   "metadata": {},
   "outputs": [],
   "source": [
    "len(oxygen_indicator)"
   ]
  },
  {
   "cell_type": "code",
   "execution_count": null,
   "metadata": {},
   "outputs": [],
   "source": [
    "cnxn = pyodbc.connect(cnxn_string)\n",
    "dialysis = pd.DataFrame(pd.read_sql_query(\"\"\"\n",
    "with covid_positive_patients as (\n",
    "        select m.person_id, min(m.measurement_date) as covid_positive_test_date from cords.dbo.measurement m, cords.dbo.concept c\n",
    "        where m.measurement_concept_id = c.concept_id\n",
    "        and vocabulary_id='LOINC'\n",
    "       and concept_code in ('94500-6', '94309-2', '94531-1', '94500-6', '94310-0', '94533-7', '94306-8') and m.value_as_concept_id=9191\n",
    "        group by person_id\n",
    "),\n",
    "p as (\n",
    "    SELECT  a.[person_id], covid_positive_test_date, [procedure_concept_id], [procedure_date], [procedure_type_concept_id], [visit_occurrence_id]\n",
    "\tfrom covid_positive_patients a\n",
    "\tinner join (\n",
    "\t\t select person_id, [procedure_concept_id], [procedure_date], [procedure_type_concept_id], [visit_occurrence_id]\n",
    "\t\t FROM [CORDS].[dbo].[procedure_occurrence] \n",
    "\t\t where procedure_concept_id!=0) b\n",
    "\ton a.person_id = b.person_id\n",
    "), \n",
    "with_procedure_name as (\n",
    "\tselect c.concept_name as name_of_procedure, c.domain_id, p.* from p \n",
    "\tleft join (select * from cords.dbo.concept ) as c\n",
    "\t\ton c.concept_id=p.procedure_concept_id\n",
    "\twhere c.domain_id='Procedure'\n",
    "),\n",
    "with_procedure_type as (\n",
    "\tselect c.concept_name as procedure_type, p.* from with_procedure_name p\n",
    "\tleft join (select * from cords.dbo.concept ) as c\n",
    "\t\ton c.concept_id=p.procedure_type_concept_id\n",
    "),\n",
    "procedures_in_last_yr as (\n",
    "select * from with_procedure_type where procedure_date >= dateadd(year, -1, covid_positive_test_date) \n",
    "and procedure_date <= dateadd(day, 1, covid_positive_test_date)\n",
    "),\n",
    "group_by_procedure as (\n",
    "\tselect person_id, max(procedure_date) as procedure_date, name_of_procedure, procedure_concept_id from procedures_in_last_yr group by person_id, name_of_procedure, procedure_concept_id\n",
    ")\n",
    "select distinct person_id from group_by_procedure\n",
    "where procedure_concept_id in (2213572,2213573,2213576,2213577,2213601,2617342)\n",
    "\"\"\", cnxn))\n"
   ]
  },
  {
   "cell_type": "code",
   "execution_count": null,
   "metadata": {},
   "outputs": [],
   "source": [
    "#dialysis[['person_id', 'name_of_procedure', 'procedure_concept_id']] = dialysis[['person_id', 'name_of_procedure', 'procedure_concept_id']].astype(str)\n",
    "dialysis[['person_id']] = dialysis[['person_id']].astype(str)\n",
    "\n",
    "# dialysis = dialysis.loc[dialysis['ancestor_concept_id']=='4032243']\n",
    "#dialysis = dialysis.loc[dialysis['procedure_concept_id'].isin([2213572,2213573,2213576,2213577,2213601,2617342,2785872])]\n",
    "dialysis['dialysis'] = '1'\n",
    "# dialysis\n",
    "# dialysis as Series to concat\n",
    "dialysis_s = pd.Series(dialysis['dialysis'].values, index=dialysis['person_id'], name='dialysis', dtype=str)\n",
    "# dialysis_s"
   ]
  },
  {
   "cell_type": "code",
   "execution_count": null,
   "metadata": {},
   "outputs": [],
   "source": [
    "dialysis_s"
   ]
  },
  {
   "cell_type": "code",
   "execution_count": null,
   "metadata": {},
   "outputs": [],
   "source": [
    "# Inpatient visits\n",
    "cnxn = pyodbc.connect(cnxn_string)\n",
    "\n",
    "inpatient_visits = pd.DataFrame(pd.read_sql_query(\"\"\"\n",
    "select distinct vo.*--, m.measurement_date, c.concept_code\n",
    "from measurement m\n",
    "join concept c\n",
    "on m.measurement_concept_id = c.concept_id\n",
    "and c.vocabulary_id='LOINC' and c.concept_code IN ('94309-2', '94531-1', '94500-6' , '94310-0' , '94306-8', '94533-7')\n",
    "join visit_occurrence vo\n",
    "on m.person_id=vo.person_id\n",
    "and (m.measurement_date between dateadd(d, -30, vo.visit_start_date) and dateadd(d,1, vo.visit_start_date)\n",
    "or m.measurement_date between vo.visit_start_date and vo.visit_end_date\n",
    ")\n",
    "and vo.visit_concept_id=9201\n",
    "and m.value_as_concept_id=9191\n",
    "\n",
    "\n",
    "\n",
    "\"\"\",cnxn))\n",
    "\n",
    "\n",
    "\n",
    "cnxn.close()\n",
    "\n"
   ]
  },
  {
   "cell_type": "code",
   "execution_count": null,
   "metadata": {},
   "outputs": [],
   "source": [
    "inpatient_visits"
   ]
  },
  {
   "cell_type": "code",
   "execution_count": null,
   "metadata": {},
   "outputs": [],
   "source": [
    "inpatient_visits_copy = inpatient_visits.copy()"
   ]
  },
  {
   "cell_type": "code",
   "execution_count": null,
   "metadata": {},
   "outputs": [],
   "source": [
    "inpatient_visits_copy = inpatient_visits_copy[['person_id', 'visit_start_date', 'visit_end_date']]\n",
    "inpatient_visits_copy"
   ]
  },
  {
   "cell_type": "code",
   "execution_count": null,
   "metadata": {},
   "outputs": [],
   "source": [
    "# Indicators in conditions table\n",
    "cnxn = pyodbc.connect(cnxn_string)\n",
    "conditions_after_diagnosis = pd.DataFrame(pd.read_sql_query(\"\"\" \n",
    "with inpatient_visits as (\n",
    "\tselect distinct vo.person_id, vo.visit_concept_id, vo.visit_start_date, vo.visit_end_date, m.measurement_date\n",
    "\tfrom measurement m\n",
    "\tjoin concept c\n",
    "\ton m.measurement_concept_id = c.concept_id\n",
    "\tand c.vocabulary_id='LOINC' and c.concept_code IN ('94309-2', '94531-1', '94500-6' , '94310-0' , '94306-8', '94533-7')\n",
    "\tjoin visit_occurrence vo\n",
    "\ton m.person_id=vo.person_id\n",
    "\tand (m.measurement_date between dateadd(d, -30, vo.visit_start_date) and dateadd(d,1, vo.visit_start_date)\n",
    "\tor m.measurement_date between vo.visit_start_date and vo.visit_end_date\n",
    "\t)\n",
    "\tand vo.visit_concept_id=9201\n",
    "\tand m.value_as_concept_id=9191\n",
    "),\n",
    "conditions as (\n",
    "\tselect * FROM [CORDS].[dbo].[condition_occurrence] co\n",
    "\tjoin concept c\n",
    "\ton co.condition_source_concept_id=c.concept_id and year(co.condition_start_date)>=2020 and c.concept_code in ('V46.11', 'V46.2')\n",
    "),\n",
    "procedures_during_inpatient_visits as (\n",
    "select v.*, c.concept_code, c.condition_start_date from inpatient_visits v\n",
    "join conditions c on c.person_id = v.person_id and ((c.condition_start_date between v.visit_start_date and v.visit_end_date) or (c.condition_start_date between v.measurement_date and v.visit_end_date))\n",
    ")\n",
    "\n",
    "select * from procedures_during_inpatient_visits\n",
    "\"\"\", cnxn))\n",
    "cnxn.close()"
   ]
  },
  {
   "cell_type": "code",
   "execution_count": null,
   "metadata": {},
   "outputs": [],
   "source": [
    "conditions_after_diagnosis"
   ]
  },
  {
   "cell_type": "code",
   "execution_count": null,
   "metadata": {},
   "outputs": [],
   "source": [
    "conditions_copy = conditions_after_diagnosis.copy() "
   ]
  },
  {
   "cell_type": "code",
   "execution_count": null,
   "metadata": {},
   "outputs": [],
   "source": [
    "conditions_copy = conditions_after_diagnosis.copy() \n",
    "\n",
    "ventilator_from_conditions = conditions_copy[conditions_copy['concept_code']=='V46.2'][['person_id']]\n",
    "oxygen_from_conditions = conditions_copy[conditions_copy['concept_code']=='V46.11'][['person_id']]\n",
    "ventilator_from_conditions.drop_duplicates('person_id', keep='first', inplace=True)\n",
    "oxygen_from_conditions.drop_duplicates('person_id', keep='first', inplace=True)"
   ]
  },
  {
   "cell_type": "code",
   "execution_count": null,
   "metadata": {},
   "outputs": [],
   "source": [
    "oxygen_from_conditions"
   ]
  },
  {
   "cell_type": "code",
   "execution_count": null,
   "metadata": {},
   "outputs": [],
   "source": [
    "ventilator_from_conditions['ventilation'] = '1'\n",
    "oxygen_from_conditions['oxygen'] = '1'\n",
    "\n",
    "ventilator_from_conditions = ventilator_from_conditions.set_index('person_id')['ventilation']\n",
    "oxygen_from_conditions = oxygen_from_conditions.set_index('person_id')['oxygen']\n",
    "\n",
    "ventilator_from_conditions.index = ventilator_from_conditions.index.map(str)\n",
    "oxygen_from_conditions.index = oxygen_from_conditions.index.map(str)"
   ]
  },
  {
   "cell_type": "code",
   "execution_count": null,
   "metadata": {},
   "outputs": [],
   "source": [
    "ventilator_from_conditions"
   ]
  },
  {
   "cell_type": "code",
   "execution_count": null,
   "metadata": {},
   "outputs": [],
   "source": [
    "oxygen_from_conditions"
   ]
  },
  {
   "cell_type": "code",
   "execution_count": null,
   "metadata": {},
   "outputs": [],
   "source": [
    "a = pd.concat([ventilation_indicator, ventilator_from_conditions])\n",
    "combined_ventilation =  a.reset_index().drop_duplicates(subset='person_id', keep='first').set_index('person_id')['ventilation']\n",
    "combined_ventilation.index = combined_ventilation.index.map(str)"
   ]
  },
  {
   "cell_type": "code",
   "execution_count": null,
   "metadata": {},
   "outputs": [],
   "source": [
    "b = pd.concat([oxygen_indicator, oxygen_from_conditions])\n",
    "combined_oxygen =  b.reset_index().drop_duplicates(subset='person_id', keep='first').set_index('person_id')['oxygen']\n",
    "combined_oxygen.index = combined_oxygen.index.map(str)"
   ]
  },
  {
   "cell_type": "code",
   "execution_count": null,
   "metadata": {},
   "outputs": [],
   "source": [
    "a.reset_index().person_id.duplicated().value_counts()"
   ]
  },
  {
   "cell_type": "code",
   "execution_count": null,
   "metadata": {},
   "outputs": [],
   "source": [
    "combined_oxygen\n",
    "# oxygen_indicator\n",
    "# combined_ventilation"
   ]
  },
  {
   "cell_type": "code",
   "execution_count": null,
   "metadata": {},
   "outputs": [],
   "source": [
    "dialysis_s"
   ]
  },
  {
   "cell_type": "code",
   "execution_count": null,
   "metadata": {},
   "outputs": [],
   "source": [
    "indicators = pd.concat([ecmo_indicator, combined_ventilation, combined_oxygen, dialysis_s], axis=1, join=\"outer\")\n",
    "indicators.fillna(\"0\", inplace=True)\n",
    "indicators.reset_index(inplace=True)\n",
    "indicators.columns = ['person_id', 'ecmo', 'ventilation', 'oxygen', 'dialysis'] \n",
    "indicators[['person_id', 'ecmo', 'ventilation', 'oxygen', 'dialysis']] = indicators[['person_id','ecmo', 'ventilation', 'oxygen', 'dialysis']].astype(str)"
   ]
  },
  {
   "cell_type": "code",
   "execution_count": null,
   "metadata": {},
   "outputs": [],
   "source": [
    "indicators"
   ]
  },
  {
   "cell_type": "code",
   "execution_count": null,
   "metadata": {},
   "outputs": [],
   "source": [
    "# no duplicates\n",
    "assert indicators[indicators['person_id'].duplicated(keep=False)==True].size == 0"
   ]
  },
  {
   "cell_type": "code",
   "execution_count": null,
   "metadata": {},
   "outputs": [],
   "source": []
  },
  {
   "cell_type": "code",
   "execution_count": null,
   "metadata": {},
   "outputs": [],
   "source": [
    "indicators.to_csv(\"procedures.csv\", sep='\\t', index=False)"
   ]
  },
  {
   "cell_type": "code",
   "execution_count": null,
   "metadata": {},
   "outputs": [],
   "source": [
    "indicators.oxygen.value_counts()"
   ]
  },
  {
   "cell_type": "code",
   "execution_count": null,
   "metadata": {},
   "outputs": [],
   "source": [
    "indicators.ventilation.value_counts()"
   ]
  },
  {
   "cell_type": "code",
   "execution_count": null,
   "metadata": {},
   "outputs": [],
   "source": [
    "indicators.ecmo.value_counts()"
   ]
  },
  {
   "cell_type": "code",
   "execution_count": null,
   "metadata": {},
   "outputs": [],
   "source": [
    "indicators.dialysis.value_counts()"
   ]
  },
  {
   "cell_type": "code",
   "execution_count": null,
   "metadata": {},
   "outputs": [],
   "source": []
  },
  {
   "cell_type": "code",
   "execution_count": null,
   "metadata": {},
   "outputs": [],
   "source": []
  }
 ],
 "metadata": {
  "kernelspec": {
   "display_name": "Python 3",
   "language": "python",
   "name": "python3"
  },
  "language_info": {
   "codemirror_mode": {
    "name": "ipython",
    "version": 3
   },
   "file_extension": ".py",
   "mimetype": "text/x-python",
   "name": "python",
   "nbconvert_exporter": "python",
   "pygments_lexer": "ipython3",
   "version": "3.8.3"
  }
 },
 "nbformat": 4,
 "nbformat_minor": 4
}
