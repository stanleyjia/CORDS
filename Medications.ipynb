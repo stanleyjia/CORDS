{
 "cells": [
  {
   "cell_type": "code",
   "execution_count": null,
   "metadata": {},
   "outputs": [],
   "source": [
    "import pyodbc\n",
    "import pandas as pd\n",
    "cnxn_string = r'Driver={SQL Server};Server=omop.uci.edu;Database=cords;Trusted_Connection=yes;'"
   ]
  },
  {
   "cell_type": "code",
   "execution_count": null,
   "metadata": {},
   "outputs": [],
   "source": [
    "pd.__version__"
   ]
  },
  {
   "cell_type": "code",
   "execution_count": null,
   "metadata": {},
   "outputs": [],
   "source": [
    "cnxn = pyodbc.connect(cnxn_string)\n",
    "medications = pd.DataFrame(pd.read_sql_query(\"\"\"\n",
    "with covid_positive_patients as (\n",
    "    select m.person_id, min(m.measurement_date) as positive_covid_test_date from cords.dbo.measurement m, cords.dbo.concept c\n",
    "    where m.measurement_concept_id = c.concept_id\n",
    "    and vocabulary_id='LOINC'\n",
    "    and concept_code in ('94500-6', '94309-2', '94531-1', '94500-6', '94310-0', '94533-7', '94306-8') and m.value_as_concept_id=9191\n",
    "    group by person_id\n",
    "),\n",
    "drug_exposures as (\n",
    "\tselect a.person_id, positive_covid_test_date, b.[drug_concept_id],b.[drug_exposure_start_date],b.[drug_exposure_end_date],b.[drug_type_concept_id]\n",
    "\tfrom covid_positive_patients a\n",
    "\tinner join (\n",
    "\t\tSELECT distinct [person_id]\n",
    "\t\t  ,[drug_concept_id]\n",
    "\t\t  ,[drug_exposure_start_date]\n",
    "\t\t  ,[drug_exposure_end_date]\n",
    "\t\t  ,[drug_type_concept_id]\n",
    "\t  FROM [CORDS].[dbo].[drug_exposure]) b\n",
    "\t  on a.person_id = b.person_id \n",
    "),\n",
    "with_drug_type as (\n",
    "\tselect de.person_id, positive_covid_test_date, de.drug_concept_id, c.concept_name as drug_type, de.drug_exposure_start_date, de.drug_exposure_end_date from drug_exposures de\n",
    "\t\tleft join (select * from cords.dbo.concept ) as c\n",
    "\t\ton c.concept_id=de.drug_type_concept_id\n",
    "),\n",
    "with_drug_name as (\n",
    "select de.person_id,positive_covid_test_date, c.concept_name as drug_name,drug_concept_id, de.drug_type, drug_exposure_start_date, drug_exposure_end_date\n",
    "from with_drug_type de\n",
    "\t\tleft join (select * from cords.dbo.concept ) as c\n",
    "\t\ton c.concept_id=de.drug_concept_id\n",
    "),\n",
    "drugs_after_covid_positive as (\n",
    "select * from with_drug_name\n",
    "where drug_exposure_start_date >= positive_covid_test_date \n",
    "and drug_exposure_start_date <=  dateadd(day, 30, positive_covid_test_date)\n",
    "),\n",
    "drug_ancestor as (\n",
    "\tselect person_id, positive_covid_test_date, drug_exposure_start_date, drug_exposure_end_date, drug_name, drug_concept_id, drug_type, ancestor_concept_id from drugs_after_covid_positive a\n",
    "\tleft join (\n",
    "\tSELECT * FROM [CORDS].[dbo].[concept_ancestor]\n",
    "\t) as b\n",
    "\ton a.drug_concept_id=b.descendant_concept_id\n",
    "\twhere max_levels_of_separation!=0\n",
    "),\n",
    "ancestor_name as (\n",
    "\tselect distinct person_id, positive_covid_test_date, drug_exposure_start_date, drug_exposure_end_date, drug_name, drug_type, c.concept_name as ingredient from drug_ancestor a\n",
    "\tleft join (select * from cords.dbo.concept ) as c\n",
    "\ton \ta.ancestor_concept_id=c.concept_id\n",
    "\twhere concept_class_id='Ingredient'\n",
    "),\n",
    "with_inpatient_indicator as (\n",
    "\tselect person_id, positive_covid_test_date, drug_exposure_start_date, drug_exposure_end_date, drug_name, ingredient, \n",
    "\tCASE WHEN drug_type='Inpatient administration' THEN 1 Else 0 End as inpatient_administered\n",
    "\tfrom ancestor_name\n",
    "),\n",
    "group_by_drug_name as (\n",
    "select b.person_id, positive_covid_test_date, drug_name, ingredient, min([drug_exposure_start_date]) as drug_exposure_start_date, \n",
    "CASE WHEN max([drug_exposure_end_date]) IS NULL THEN max([drug_exposure_start_date]) ELSE max([drug_exposure_end_date]) END AS drug_exposure_end_date, max(inpatient_administered) as inpatient_administered\n",
    "from with_inpatient_indicator b\n",
    "group by person_id,positive_covid_test_date, drug_name, ingredient\n",
    "),\n",
    "group_by_ingredient as (\n",
    "select b.person_id, positive_covid_test_date, ingredient, string_agg(drug_name, ', ' ) within group (order by drug_exposure_end_date desc) as drug_names, min([drug_exposure_start_date]) as ingredient_exposure_start_date, \n",
    "CASE WHEN max([drug_exposure_end_date]) IS NULL THEN max([drug_exposure_start_date]) ELSE max([drug_exposure_end_date]) END AS ingredient_exposure_end_date, max(inpatient_administered) as inpatient_administered\n",
    "from group_by_drug_name b\n",
    "group by person_id, positive_covid_test_date, ingredient\n",
    "),\n",
    "n_recent_drugs as (\n",
    "select FORMAT(RowNumber, '000') as RowNumber, \n",
    "person_id,positive_covid_test_date,  ingredient, drug_names, ingredient_exposure_start_date, ingredient_exposure_end_date, inpatient_administered from (\n",
    "\t\tSELECT ROW_NUMBER() OVER (PARTITION BY person_id ORDER BY ingredient_exposure_start_date asc, ingredient_exposure_end_date asc) as RowNumber, * \n",
    "\t\tFROM group_by_ingredient \n",
    "\t) as a\n",
    "\t--where a.RowNumber <= 30\n",
    ")\n",
    "select * from n_recent_drugs\n",
    "\"\"\", cnxn))\n",
    "cnxn.close()"
   ]
  },
  {
   "cell_type": "code",
   "execution_count": null,
   "metadata": {},
   "outputs": [],
   "source": [
    "medications"
   ]
  },
  {
   "cell_type": "code",
   "execution_count": null,
   "metadata": {
    "scrolled": true
   },
   "outputs": [],
   "source": [
    "((pd.to_datetime(medications['ingredient_exposure_start_date']) -pd.to_datetime( medications['positive_covid_test_date'])).dt.days).max()"
   ]
  },
  {
   "cell_type": "code",
   "execution_count": null,
   "metadata": {},
   "outputs": [],
   "source": [
    "med_copy = medications.copy()\n",
    "med_copy['ingredient_month'] = pd.DatetimeIndex(med_copy['ingredient_exposure_start_date']).month\n",
    "med_copy[med_copy['ingredient_month']==11]\n",
    "# med_copy['ingredient_exposure_start_date'].max()\n",
    "# med_copy['positive_covid_test_date'].max()"
   ]
  },
  {
   "cell_type": "code",
   "execution_count": null,
   "metadata": {},
   "outputs": [],
   "source": [
    "#Reshape medications from long to wide format\n",
    "tmp = []\n",
    "variables =  ['ingredient', 'drug_names', 'ingredient_exposure_start_date','ingredient_exposure_end_date', 'inpatient_administered']\n",
    "max_row_num = medications['RowNumber'].max()\n",
    "print(max_row_num)\n",
    "ordered_column_names = [v + \"_\" + \"%03d\"%i for i in range(1, int(max_row_num) + 1) for v in variables]\n",
    "medications[['person_id', 'inpatient_administered']] = medications[['person_id', 'inpatient_administered']].astype(str)\n",
    "for var in variables:\n",
    "    medications['tmp_idx'] = var + '_' + medications.RowNumber.astype(str)\n",
    "    tmp.append(medications.pivot(index='person_id', columns='tmp_idx', values=var))\n",
    "    \n",
    "reshape = pd.concat(tmp, axis=1)\n",
    "medications_wide = reshape[ordered_column_names]\n",
    "medications_wide.reset_index(inplace=True)\n",
    "medications_wide.head()"
   ]
  },
  {
   "cell_type": "code",
   "execution_count": null,
   "metadata": {},
   "outputs": [],
   "source": [
    "#medications_wide = medications_wide.astype(str)"
   ]
  },
  {
   "cell_type": "code",
   "execution_count": null,
   "metadata": {},
   "outputs": [],
   "source": [
    "medications_wide.to_csv(\"medications.csv\", sep='\\t', index=False)"
   ]
  },
  {
   "cell_type": "code",
   "execution_count": null,
   "metadata": {},
   "outputs": [],
   "source": [
    "medications_wide[medications_wide['inpatient_administered_029']!= 'nan']"
   ]
  },
  {
   "cell_type": "code",
   "execution_count": null,
   "metadata": {},
   "outputs": [],
   "source": [
    "len(medications[medications['ingredient']=='remdesivir']['person_id'].unique())"
   ]
  },
  {
   "cell_type": "code",
   "execution_count": null,
   "metadata": {},
   "outputs": [],
   "source": [
    "medications_wide"
   ]
  },
  {
   "cell_type": "code",
   "execution_count": null,
   "metadata": {},
   "outputs": [],
   "source": []
  }
 ],
 "metadata": {
  "kernelspec": {
   "display_name": "Python 3",
   "language": "python",
   "name": "python3"
  },
  "language_info": {
   "codemirror_mode": {
    "name": "ipython",
    "version": 3
   },
   "file_extension": ".py",
   "mimetype": "text/x-python",
   "name": "python",
   "nbconvert_exporter": "python",
   "pygments_lexer": "ipython3",
   "version": "3.8.3"
  }
 },
 "nbformat": 4,
 "nbformat_minor": 4
}
