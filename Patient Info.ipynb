{
 "cells": [
  {
   "cell_type": "code",
   "execution_count": null,
   "metadata": {},
   "outputs": [],
   "source": [
    "import pyodbc\n",
    "import pandas as pd\n",
    "cnxn_string = r'Driver={SQL Server};Server=omop.uci.edu;Database=cords;Trusted_Connection=yes;'"
   ]
  },
  {
   "cell_type": "code",
   "execution_count": null,
   "metadata": {},
   "outputs": [],
   "source": [
    "cnxn = pyodbc.connect(cnxn_string)\n",
    "patient_info = pd.DataFrame(pd.read_sql_query(\"\"\"\n",
    "with covid_patients as (\n",
    "\tselect m.person_id, min(m.measurement_date) as positive_covid_test_date from cords.dbo.measurement m, cords.dbo.concept c\n",
    "    where m.measurement_concept_id = c.concept_id\n",
    "    and vocabulary_id='LOINC'\n",
    "    and concept_code in ('94500-6', '94309-2', '94531-1', '94500-6', '94310-0', '94533-7', '94306-8')\n",
    "    and m.value_as_concept_id=9191\n",
    "    group by person_id\n",
    "),\n",
    "with_info as (\n",
    "\tselect a.person_id,[gender_concept_id],[year_of_birth],[race_concept_id] ,[ethnicity_concept_id], location_id,\n",
    "    positive_covid_test_date\n",
    "    from covid_patients a \n",
    "\tleft join (\n",
    "\tSELECT distinct [person_id],[gender_concept_id] ,[year_of_birth] ,[race_concept_id] ,[ethnicity_concept_id], location_id\n",
    "  FROM [CORDS].[dbo].[person]\n",
    "  ) as b\n",
    "  on a.person_id = b.person_id\n",
    " ),\n",
    " with_location as (\n",
    "  select person_id, year_of_birth, b.location_source_value as location,gender_concept_id,race_concept_id, \n",
    "  ethnicity_concept_id, positive_covid_test_date\n",
    "  from with_info a\n",
    " left join (select * from cords.dbo.location ) as b\n",
    "    on b.location_id=a.location_id\n",
    " ),\n",
    " with_gender as (\n",
    " select person_id, year_of_birth, b.concept_name as gender, location, race_concept_id, ethnicity_concept_id, positive_covid_test_date\n",
    " from with_location a\n",
    " left join (select * from cords.dbo.concept ) as b\n",
    "\ton b.concept_id=a.gender_concept_id\n",
    " ),\n",
    " with_race as (\n",
    " select person_id, year_of_birth, gender, b.concept_name as race, location, ethnicity_concept_id, positive_covid_test_date \n",
    " from with_gender a\n",
    " left join (select * from cords.dbo.concept ) as b\n",
    "\ton b.concept_id=a.race_concept_id\n",
    " ),\n",
    " with_ethnicity as (\n",
    "\tselect person_id, year_of_birth, location, gender, race, b.concept_name as ethnicity, positive_covid_test_date from with_race a\n",
    "\tleft join (select * from cords.dbo.concept ) as b\n",
    "\ton b.concept_id=a.ethnicity_concept_id\n",
    " )\n",
    "\n",
    "select * from with_ethnicity\n",
    "\"\"\",cnxn))\n",
    "cnxn.close()"
   ]
  },
  {
   "cell_type": "code",
   "execution_count": null,
   "metadata": {},
   "outputs": [],
   "source": [
    "patient_info"
   ]
  },
  {
   "cell_type": "code",
   "execution_count": null,
   "metadata": {},
   "outputs": [],
   "source": [
    "cnxn = pyodbc.connect(cnxn_string)\n",
    "inpatient_indicator = pd.DataFrame(pd.read_sql_query(\"\"\"\n",
    "with visits as (\n",
    "select distinct vo.*--, m.measurement_date, c.concept_code\n",
    "from measurement m\n",
    "join concept c\n",
    "on m.measurement_concept_id = c.concept_id\n",
    "and c.vocabulary_id='LOINC' and c.concept_code IN ('94309-2', '94531-1', '94500-6' , '94310-0' , '94306-8', '94533-7')\n",
    "join visit_occurrence vo\n",
    "on m.person_id=vo.person_id\n",
    "and (m.measurement_date between dateadd(d, -30, vo.visit_start_date) and dateadd(d,1, vo.visit_start_date)\n",
    "or m.measurement_date between vo.visit_start_date and vo.visit_end_date\n",
    ")\n",
    "and vo.visit_concept_id=9201\n",
    "and m.value_as_concept_id=9191\n",
    "\n",
    ")\n",
    "\n",
    "select distinct person_id from visits\n",
    "\"\"\",cnxn))\n",
    "cnxn.close()"
   ]
  },
  {
   "cell_type": "code",
   "execution_count": null,
   "metadata": {},
   "outputs": [],
   "source": [
    "inpatient_indicator"
   ]
  },
  {
   "cell_type": "code",
   "execution_count": null,
   "metadata": {},
   "outputs": [],
   "source": [
    "patient_info[patient_info['person_id'].isin(inpatient_indicator['person_id'].unique())]"
   ]
  },
  {
   "cell_type": "code",
   "execution_count": null,
   "metadata": {},
   "outputs": [],
   "source": [
    "#inpatient_indicator_unique_patients= inpatient_indicator.drop_duplicates('person_id', keep='first', ignore_index=True)[['person_id']]"
   ]
  },
  {
   "cell_type": "code",
   "execution_count": null,
   "metadata": {},
   "outputs": [],
   "source": [
    "inpatient_indicator_unique_patients = inpatient_indicator\n",
    "inpatient_indicator_unique_patients['inpatient'] = 1"
   ]
  },
  {
   "cell_type": "code",
   "execution_count": null,
   "metadata": {},
   "outputs": [],
   "source": [
    "len(inpatient_indicator_unique_patients['person_id'].unique())"
   ]
  },
  {
   "cell_type": "code",
   "execution_count": null,
   "metadata": {},
   "outputs": [],
   "source": [
    "patient_info[['person_id']] = patient_info[['person_id']].astype(str)\n",
    "inpatient_indicator_unique_patients[['person_id', 'inpatient']] = inpatient_indicator_unique_patients[['person_id', 'inpatient']].astype(str)\n",
    "merged_patient_info = patient_info.merge(inpatient_indicator_unique_patients, on='person_id', how='left')\n",
    "merged_patient_info.inpatient.fillna('0', inplace=True)"
   ]
  },
  {
   "cell_type": "code",
   "execution_count": null,
   "metadata": {},
   "outputs": [],
   "source": [
    "merged_patient_info.inpatient.value_counts()"
   ]
  },
  {
   "cell_type": "code",
   "execution_count": null,
   "metadata": {},
   "outputs": [],
   "source": [
    "cnxn = pyodbc.connect(cnxn_string)\n",
    "bmi = pd.DataFrame(pd.read_sql_query(\"\"\"\n",
    "with covid_positive_patients as (\n",
    "\tselect m.person_id from cords.dbo.measurement m, cords.dbo.concept c\n",
    "    where m.measurement_concept_id = c.concept_id\n",
    "    and vocabulary_id='LOINC'\n",
    "    and concept_code in ('94500-6', '94309-2', '94531-1', '94500-6', '94310-0', '94533-7', '94306-8') and m.value_as_concept_id=9191\n",
    "    group by person_id\n",
    "),\n",
    "bmi as (\n",
    "\tSELECT * FROM [CORDS].[dbo].[measurement]\n",
    "   where person_id in (select person_id from covid_positive_patients) and measurement_concept_id = '3038553'\n",
    "),\n",
    "recent_bmi as ( \n",
    "\tselect a.person_id, avg(a.value_as_number) as bmi\n",
    "\tfrom bmi a\n",
    "\tinner join (select person_id, max(measurement_date) as most_recent_measurement_date from bmi group by person_id) b\n",
    "\ton a.measurement_date = b.most_recent_measurement_date\n",
    "\tgroup by a.person_id\n",
    ")\n",
    "\n",
    "select * from recent_bmi\n",
    "\n",
    "\"\"\",cnxn))\n",
    "cnxn.close()\n",
    "bmi[['person_id']] = bmi[['person_id']].astype(str)\n",
    "bmi = bmi[bmi['bmi'].astype(float) <= 80]"
   ]
  },
  {
   "cell_type": "code",
   "execution_count": null,
   "metadata": {},
   "outputs": [],
   "source": [
    "bmi[['person_id']] = bmi[['person_id']].astype(str)\n",
    "patient_info[['person_id']] = patient_info[['person_id']].astype(str)\n",
    "patient_info_with_bmi = merged_patient_info.merge(bmi, on='person_id', how='left')\n",
    "patient_info_with_bmi"
   ]
  },
  {
   "cell_type": "code",
   "execution_count": null,
   "metadata": {},
   "outputs": [],
   "source": [
    "patient_info_with_bmi.to_csv(\"patient_info.csv\", sep='\\t', index=False)"
   ]
  },
  {
   "cell_type": "code",
   "execution_count": null,
   "metadata": {},
   "outputs": [],
   "source": [
    "patient_info_with_bmi['bmi'].describe()"
   ]
  },
  {
   "cell_type": "code",
   "execution_count": null,
   "metadata": {},
   "outputs": [],
   "source": [
    "patient_info_with_bmi.inpatient.value_counts()"
   ]
  },
  {
   "cell_type": "code",
   "execution_count": null,
   "metadata": {},
   "outputs": [],
   "source": [
    "patient_info_with_bmi.shape"
   ]
  },
  {
   "cell_type": "code",
   "execution_count": null,
   "metadata": {},
   "outputs": [],
   "source": [
    "assert patient_info_with_bmi.duplicated().any() == False"
   ]
  },
  {
   "cell_type": "code",
   "execution_count": null,
   "metadata": {},
   "outputs": [],
   "source": []
  }
 ],
 "metadata": {
  "kernelspec": {
   "display_name": "Python 3",
   "language": "python",
   "name": "python3"
  },
  "language_info": {
   "codemirror_mode": {
    "name": "ipython",
    "version": 3
   },
   "file_extension": ".py",
   "mimetype": "text/x-python",
   "name": "python",
   "nbconvert_exporter": "python",
   "pygments_lexer": "ipython3",
   "version": "3.8.3"
  }
 },
 "nbformat": 4,
 "nbformat_minor": 4
}
